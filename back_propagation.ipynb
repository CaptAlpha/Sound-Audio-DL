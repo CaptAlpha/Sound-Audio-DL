{
 "cells": [
  {
   "cell_type": "markdown",
   "metadata": {},
   "source": [
    "## Back Propagation\n",
    "<img src=\"images\\backPropagation.png\">\n",
    "<img src=\"images\\backPropagation1.png\">\n",
    "dE/dW = dE/dA * dA/dh * dh/dW"
   ]
  },
  {
   "cell_type": "code",
   "execution_count": 1,
   "metadata": {},
   "outputs": [],
   "source": [
    "import numpy as np"
   ]
  },
  {
   "cell_type": "code",
   "execution_count": 2,
   "metadata": {},
   "outputs": [],
   "source": [
    "#save the activation function and the deriv\n",
    "#implement backpropogation\n",
    "#implement gradient descent\n",
    "#implement train\n",
    "#train net with some dummy data\n",
    "#make some predictions\n"
   ]
  },
  {
   "cell_type": "code",
   "execution_count": null,
   "metadata": {},
   "outputs": [],
   "source": [
    "class MLP:\n",
    "    def __init__(self, num_inputs =3, num_hidden = [3, 5], num_output=2):\n",
    "\n",
    "        self.num_inputs = num_inputs\n",
    "        self.num_hidden = num_hidden\n",
    "        self.num_output = num_output\n",
    "\n",
    "        layers = [self.num_inputs] + self.num_hidden + [self.num_output]\n",
    "\n",
    "        self.weights = []\n",
    "        for i in range(len(layers)-1):\n",
    "            w = np.random.rand(layers[i], layers[i+1])\n",
    "            self.weights.append(w)\n",
    "        \n",
    "    def forward_propagate(self, inputs):\n",
    "        activations = inputs \n",
    "        for w in self.weights:\n",
    "            z = np.dot(activations, w)\n",
    "            activations = self.sigmoid(z)\n",
    "        \n",
    "        return activations\n",
    "\n",
    "    def sigmoid(self, x):\n",
    "        return 1 / (1 + np.exp(-x))\n",
    "\n",
    "    "
   ]
  },
  {
   "cell_type": "code",
   "execution_count": null,
   "metadata": {},
   "outputs": [],
   "source": []
  }
 ],
 "metadata": {
  "interpreter": {
   "hash": "68388ac46d513204cd8f855d33290d51794fb1a60da2c6fe6ee1dabfa9739d16"
  },
  "kernelspec": {
   "display_name": "Python 3.9.1 64-bit",
   "language": "python",
   "name": "python3"
  },
  "language_info": {
   "codemirror_mode": {
    "name": "ipython",
    "version": 3
   },
   "file_extension": ".py",
   "mimetype": "text/x-python",
   "name": "python",
   "nbconvert_exporter": "python",
   "pygments_lexer": "ipython3",
   "version": "3.9.1"
  },
  "orig_nbformat": 4
 },
 "nbformat": 4,
 "nbformat_minor": 2
}
