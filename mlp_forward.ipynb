{
 "cells": [
  {
   "cell_type": "code",
   "execution_count": 8,
   "metadata": {},
   "outputs": [],
   "source": [
    "import numpy as np"
   ]
  },
  {
   "cell_type": "code",
   "execution_count": 13,
   "metadata": {},
   "outputs": [],
   "source": [
    "class MLP:\n",
    "    def __init__(self, num_inputs =3, num_hidden = [3, 5], num_output=2):\n",
    "\n",
    "        self.num_inputs = num_inputs\n",
    "        self.num_hidden = num_hidden\n",
    "        self.num_output = num_output\n",
    "\n",
    "        layers = [self.num_inputs] + self.num_hidden + [self.num_output]\n",
    "\n",
    "        self.weights = []\n",
    "        for i in range(len(layers)-1):\n",
    "            w = np.random.rand(layers[i], layers[i+1])\n",
    "            self.weights.append(w)\n",
    "        \n",
    "    def forward_propagate(self, inputs):\n",
    "        activations = inputs \n",
    "        for w in self.weights:\n",
    "            z = np.dot(activations, w)\n",
    "            activations = self.sigmoid(z)\n",
    "        \n",
    "        return activations\n",
    "\n",
    "    def sigmoid(self, x):\n",
    "        return 1 / (1 + np.exp(-x))\n",
    "\n",
    "    "
   ]
  },
  {
   "cell_type": "code",
   "execution_count": 15,
   "metadata": {},
   "outputs": [
    {
     "name": "stdout",
     "output_type": "stream",
     "text": [
      "The network input is:  [0.0712376  0.48837633 0.29258264]\n",
      "The network output is:  [0.83231719 0.91228408]\n"
     ]
    }
   ],
   "source": [
    "if __name__ == \"__main__\":\n",
    "    #Create a MLP\n",
    "    mlp = MLP()\n",
    "    #Create some inputs\n",
    "    inputs = np.random.rand(mlp.num_inputs)\n",
    "    #Perform Forward Propogation\n",
    "    outputs = mlp.forward_propagate(inputs)\n",
    "    #print the results\n",
    "    print(\"The network input is: \",inputs)\n",
    "    print(\"The network output is: \",outputs)"
   ]
  },
  {
   "cell_type": "code",
   "execution_count": null,
   "metadata": {},
   "outputs": [],
   "source": []
  },
  {
   "cell_type": "code",
   "execution_count": null,
   "metadata": {},
   "outputs": [],
   "source": []
  }
 ],
 "metadata": {
  "interpreter": {
   "hash": "68388ac46d513204cd8f855d33290d51794fb1a60da2c6fe6ee1dabfa9739d16"
  },
  "kernelspec": {
   "display_name": "Python 3.9.1 64-bit",
   "language": "python",
   "name": "python3"
  },
  "language_info": {
   "codemirror_mode": {
    "name": "ipython",
    "version": 3
   },
   "file_extension": ".py",
   "mimetype": "text/x-python",
   "name": "python",
   "nbconvert_exporter": "python",
   "pygments_lexer": "ipython3",
   "version": "3.9.1"
  },
  "orig_nbformat": 4
 },
 "nbformat": 4,
 "nbformat_minor": 2
}
